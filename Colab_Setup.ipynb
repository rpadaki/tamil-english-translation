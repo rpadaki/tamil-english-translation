{
  "nbformat": 4,
  "nbformat_minor": 0,
  "metadata": {
    "colab": {
      "name": "English-Tamil.ipynb",
      "version": "0.3.2",
      "provenance": [],
      "include_colab_link": true
    },
    "kernelspec": {
      "name": "python3",
      "display_name": "Python 3"
    }
  },
  "cells": [
    {
      "cell_type": "markdown",
      "metadata": {
        "id": "view-in-github",
        "colab_type": "text"
      },
      "source": [
        "<a href=\"https://colab.research.google.com/github/rpadaki/tamil-english-translation/blob/master/Colab_Setup.ipynb\" target=\"_parent\"><img src=\"https://colab.research.google.com/assets/colab-badge.svg\" alt=\"Open In Colab\"/></a>"
      ]
    },
    {
      "metadata": {
        "id": "2SHnUvELyybK",
        "colab_type": "code",
        "outputId": "74b1ce35-cb1b-44e3-96a6-adb8fa043d47",
        "colab": {
          "base_uri": "https://localhost:8080/",
          "height": 69
        }
      },
      "cell_type": "code",
      "source": [
        "!pip install -q torch torchtext opt_einsum\n",
        "!pip install -qU git+https://github.com/harvardnlp/namedtensor"
      ],
      "execution_count": 0,
      "outputs": [
        {
          "output_type": "stream",
          "text": [
            "\u001b[?25l\r\u001b[K    17% |█████▌                          | 10kB 19.8MB/s eta 0:00:01\r\u001b[K    34% |███████████                     | 20kB 1.8MB/s eta 0:00:01\r\u001b[K    51% |████████████████▌               | 30kB 2.6MB/s eta 0:00:01\r\u001b[K    68% |██████████████████████          | 40kB 1.7MB/s eta 0:00:01\r\u001b[K    86% |███████████████████████████▌    | 51kB 2.1MB/s eta 0:00:01\r\u001b[K    100% |████████████████████████████████| 61kB 2.4MB/s \n",
            "\u001b[?25h  Building wheel for opt-einsum (setup.py) ... \u001b[?25ldone\n",
            "\u001b[?25h  Building wheel for namedtensor (setup.py) ... \u001b[?25ldone\n",
            "\u001b[?25h"
          ],
          "name": "stdout"
        }
      ]
    },
    {
      "metadata": {
        "id": "4y_V4QsOy06K",
        "colab_type": "code",
        "colab": {}
      },
      "cell_type": "code",
      "source": [
        "import torch\n",
        "import torchtext\n",
        "from torchtext.vocab import Vectors\n",
        "from torchtext import datasets\n",
        "\n",
        "from namedtensor import ntorch\n",
        "from namedtensor.text import NamedField\n",
        "\n",
        "import numpy as np"
      ],
      "execution_count": 0,
      "outputs": []
    },
    {
      "metadata": {
        "id": "anaQd-ijzdEN",
        "colab_type": "code",
        "colab": {}
      },
      "cell_type": "code",
      "source": [
        "def tokenize_ta(text):\n",
        "    return text.split()\n",
        "\n",
        "def tokenize_en(text):\n",
        "    return text.split()"
      ],
      "execution_count": 0,
      "outputs": []
    },
    {
      "metadata": {
        "id": "aKYXv1_Uz4Pd",
        "colab_type": "code",
        "colab": {}
      },
      "cell_type": "code",
      "source": [
        "TA = NamedField(names=(\"seqlen\",), tokenize=tokenize_ta)\n",
        "EN = NamedField(names=(\"seqlen\",), tokenize=tokenize_en)"
      ],
      "execution_count": 0,
      "outputs": []
    },
    {
      "metadata": {
        "id": "Ia4KEmoj_ItE",
        "colab_type": "code",
        "outputId": "9210b6ff-27b6-4139-e04c-b7ba587500c2",
        "colab": {
          "base_uri": "https://localhost:8080/",
          "height": 210
        }
      },
      "cell_type": "code",
      "source": [
        "!curl http://ufal.mff.cuni.cz/~ramasamy/parallel/data/v2/en-ta-parallel-v2.tar.gz | tar xvz"
      ],
      "execution_count": 0,
      "outputs": [
        {
          "output_type": "stream",
          "text": [
            "  % Total    % Received % Xferd  Average Speed   Time    Time     Time  Current\n",
            "                                 Dload  Upload   Total   Spent    Left  Speed\n",
            "\r  0     0    0     0    0     0      0      0 --:--:-- --:--:-- --:--:--     0\r  0     0    0     0    0     0      0      0 --:--:-- --:--:-- --:--:--     0en-ta-parallel-v2/\n",
            "en-ta-parallel-v2/corpus.bcn.dev.en\n",
            "en-ta-parallel-v2/corpus.bcn.dev.ta\n",
            "en-ta-parallel-v2/corpus.bcn.test.en\n",
            "en-ta-parallel-v2/corpus.bcn.test.ta\n",
            "en-ta-parallel-v2/corpus.bcn.train.en\n",
            " 37 23.7M   37 9092k    0     0  4280k      0  0:00:05  0:00:02  0:00:03 4278ken-ta-parallel-v2/corpus.bcn.train.ta\n",
            "100 23.7M  100 23.7M    0     0  5555k      0  0:00:04  0:00:04 --:--:-- 5702k\n"
          ],
          "name": "stdout"
        }
      ]
    },
    {
      "metadata": {
        "id": "jyhIkxr8BrHz",
        "colab_type": "code",
        "colab": {}
      },
      "cell_type": "code",
      "source": [
        "MAX_LEN = 20\n",
        "MIN_FREQ = 5"
      ],
      "execution_count": 0,
      "outputs": []
    },
    {
      "metadata": {
        "id": "nETU6VHo21dd",
        "colab_type": "code",
        "colab": {}
      },
      "cell_type": "code",
      "source": [
        "train, val, test = datasets.TranslationDataset.splits(exts=('.ta', '.en'),\n",
        "                                         fields=(TA, EN),\n",
        "                                         path=\"./en-ta-parallel-v2\",\n",
        "                                         train=\"corpus.bcn.train\",\n",
        "                                         test=\"corpus.bcn.test\",\n",
        "                                         validation=\"corpus.bcn.dev\",\n",
        "                                         filter_pred = lambda x: len(vars(x)['src']) <= MAX_LEN and len(vars(x)['trg']) <= MAX_LEN\n",
        "                                         )"
      ],
      "execution_count": 0,
      "outputs": []
    },
    {
      "metadata": {
        "id": "af85p-ai6fcC",
        "colab_type": "code",
        "colab": {}
      },
      "cell_type": "code",
      "source": [
        "TA.build_vocab(train.src, min_freq=MIN_FREQ)\n",
        "EN.build_vocab(train.trg, min_freq=MIN_FREQ)"
      ],
      "execution_count": 0,
      "outputs": []
    },
    {
      "metadata": {
        "id": "34AB2EJ5Ci2H",
        "colab_type": "code",
        "colab": {}
      },
      "cell_type": "code",
      "source": [
        ""
      ],
      "execution_count": 0,
      "outputs": []
    }
  ]
}